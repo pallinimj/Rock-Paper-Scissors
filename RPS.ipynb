{
 "cells": [
  {
   "cell_type": "code",
   "execution_count": 12,
   "id": "persistent-shape",
   "metadata": {},
   "outputs": [],
   "source": [
    "import random\n",
    "\n",
    "# The rules of the game\n",
    "def rock_paper_scissors(name, games):\n",
    "    player_name = name\n",
    "    throws = ['Rock','Paper','Scissors']\n",
    "    \n",
    "    tie = 0\n",
    "    win = 0\n",
    "    loss = 0\n",
    "\n",
    "    for i in range(1,int(games)+1):\n",
    "        player = input('Rock, Paper, Scissors?')\n",
    "        computer = random.choice(throws)\n",
    "        print(f'\\n{player_name} throws {player}, opponent throws {computer}.\\n')\n",
    "\n",
    "        if player == computer:\n",
    "            tie += 1\n",
    "            print('Tie!')\n",
    "        elif player == 'Rock':\n",
    "            if computer == 'Paper':\n",
    "                loss += 1\n",
    "                print('Loss - ', computer, 'covers', player)\n",
    "            elif computer == 'Scissors':\n",
    "                win += 1\n",
    "                print('Win - ', player, 'smashes', computer)\n",
    "        elif player == 'Paper':\n",
    "            if computer == 'Scissors':\n",
    "                loss += 1\n",
    "                print('Loss - ', computer, 'cuts', player)\n",
    "            elif computer == 'Rock':\n",
    "                win += 1\n",
    "                print('Win - ', player, 'covers', computer)\n",
    "        elif player == 'Scissors':\n",
    "            if computer == 'Rock':\n",
    "                loss += 1\n",
    "                print('Loss - ', computer, 'smashes', player)\n",
    "            elif computer == 'Paper':\n",
    "                win += 1\n",
    "                print('Win - ', player, 'cuts', computer)\n",
    "        else:\n",
    "            print('Input Error - Check spelling')\n",
    "\n",
    "    print('Record: Wins: {}, Ties: {}, Losses: {}'.format(win, tie, loss))\n",
    "\n",
    "\n",
    "# Playing the game    \n",
    "def play():\n",
    "    name = input('Enter Player Name:')\n",
    "    games = input('Number of games to play:')\n",
    "    rock_paper_scissors(name, games)"
   ]
  },
  {
   "cell_type": "code",
   "execution_count": null,
   "id": "demonstrated-question",
   "metadata": {},
   "outputs": [],
   "source": [
    "play()"
   ]
  }
 ],
 "metadata": {
  "kernelspec": {
   "display_name": "Python 3",
   "language": "python",
   "name": "python3"
  },
  "language_info": {
   "codemirror_mode": {
    "name": "ipython",
    "version": 3
   },
   "file_extension": ".py",
   "mimetype": "text/x-python",
   "name": "python",
   "nbconvert_exporter": "python",
   "pygments_lexer": "ipython3",
   "version": "3.8.4"
  }
 },
 "nbformat": 4,
 "nbformat_minor": 5
}
